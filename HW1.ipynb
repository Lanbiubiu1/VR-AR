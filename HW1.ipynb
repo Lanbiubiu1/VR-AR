{
  "nbformat": 4,
  "nbformat_minor": 0,
  "metadata": {
    "colab": {
      "provenance": [],
      "include_colab_link": true
    },
    "kernelspec": {
      "name": "python3",
      "display_name": "Python 3"
    },
    "language_info": {
      "name": "python"
    }
  },
  "cells": [
    {
      "cell_type": "markdown",
      "metadata": {
        "id": "view-in-github",
        "colab_type": "text"
      },
      "source": [
        "<a href=\"https://colab.research.google.com/github/Lanbiubiu1/VR-AR/blob/main/HW1.ipynb\" target=\"_parent\"><img src=\"https://colab.research.google.com/assets/colab-badge.svg\" alt=\"Open In Colab\"/></a>"
      ]
    },
    {
      "cell_type": "code",
      "execution_count": null,
      "metadata": {
        "id": "F2jDmgp_EJCa"
      },
      "outputs": [],
      "source": [
        "import matplotlib.pyplot as plt\n",
        "import numpy as np\n",
        "\n",
        "# In the beginning, the camera's local coordinate system coincides with the world coordinate system.\n",
        "initial_camera_transformation = np.identity(4, dtype=np.float32)\n",
        "\n",
        "# First rotate the camera around the z axis by 130 degrees, then move it by a translation of (dx, dy, dz) = (2.0, 3.0, 1.0), finally rotate it around the x axis by 20 degrees.\n",
        "# TODO: compute the 4 x 4 matrix corresponding to each transformation described above and composite them into a single transformation matrix, i.e., the camera transformation matrix.\n",
        "rotation1 = None\n",
        "translation = None\n",
        "rotation2 = None\n",
        "current_camera_transformation = None\n",
        "\n",
        "# Object position in the world space.\n",
        "object_position_world = np.array([2, 3, 4], dtype=np.float32)\n",
        "\n",
        "# TODO: compute the object's position in the camera space using the camera transformation matrix.\n",
        "object_position_camera = None\n",
        "\n",
        "# TODO: visualize the object's position in the world space and the camera space.\n",
        "fig = plt.figure(figsize=(8, 4))\n",
        "ax1 = fig.add_subplot(121, projection='3d')\n",
        "ax1.set_title(\"World space\")\n",
        "ax2 = fig.add_subplot(122, projection='3d')\n",
        "ax2.set_title(\"Camera space\")\n",
        "ax1.scatter(*object_position_world, color='blue', marker='o')\n",
        "ax2.scatter(*object_position_camera, color='red', marker='x')\n",
        "ax1.set_xlabel(\"X Axis\")\n",
        "ax1.set_ylabel(\"Y Axis\")\n",
        "ax1.set_zlabel(\"Z Axis\")\n",
        "ax2.set_xlabel(\"X Axis\")\n",
        "ax2.set_ylabel(\"Y Axis\")\n",
        "ax2.set_zlabel(\"Z Axis\")\n",
        "plt.show()"
      ]
    },
    {
      "cell_type": "code",
      "source": [],
      "metadata": {
        "id": "eR8CUWe9Elds"
      },
      "execution_count": null,
      "outputs": []
    }
  ]
}